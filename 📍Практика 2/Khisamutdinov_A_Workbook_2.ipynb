{
 "cells": [
  {
   "cell_type": "markdown",
   "metadata": {},
   "source": [
    "Libraries"
   ]
  },
  {
   "cell_type": "code",
   "execution_count": 2,
   "metadata": {},
   "outputs": [
    {
     "name": "stderr",
     "output_type": "stream",
     "text": [
      "/var/folders/vx/hcp7x2k56qj24ksjy2vx2vlr0000gn/T/ipykernel_37975/3856780930.py:2: DeprecationWarning: \n",
      "Pyarrow will become a required dependency of pandas in the next major release of pandas (pandas 3.0),\n",
      "(to allow more performant data types, such as the Arrow string type, and better interoperability with other libraries)\n",
      "but was not found to be installed on your system.\n",
      "If this would cause problems for you,\n",
      "please provide us feedback at https://github.com/pandas-dev/pandas/issues/54466\n",
      "        \n",
      "  import pandas as pd\n"
     ]
    }
   ],
   "source": [
    "import numpy as np \n",
    "import pandas as pd\n",
    "from sklearn import preprocessing"
   ]
  },
  {
   "cell_type": "markdown",
   "metadata": {},
   "source": [
    "1.3.1"
   ]
  },
  {
   "cell_type": "code",
   "execution_count": 2,
   "metadata": {},
   "outputs": [
    {
     "name": "stdout",
     "output_type": "stream",
     "text": [
      "[[0 1 0 1 0 1 0 1]\n",
      " [1 0 1 0 1 0 1 0]\n",
      " [0 1 0 1 0 1 0 1]\n",
      " [1 0 1 0 1 0 1 0]\n",
      " [0 1 0 1 0 1 0 1]\n",
      " [1 0 1 0 1 0 1 0]\n",
      " [0 1 0 1 0 1 0 1]\n",
      " [1 0 1 0 1 0 1 0]]\n"
     ]
    }
   ],
   "source": [
    "matrix = np.zeros((8, 8), dtype=int)\n",
    "matrix[1::2, ::2] = 1\n",
    "matrix[::2, 1::2] = 1\n",
    "print(matrix)\n"
   ]
  },
  {
   "cell_type": "markdown",
   "metadata": {},
   "source": [
    "1.3.2"
   ]
  },
  {
   "cell_type": "code",
   "execution_count": 7,
   "metadata": {},
   "outputs": [
    {
     "name": "stdout",
     "output_type": "stream",
     "text": [
      "[[0 1 2 3 4]\n",
      " [0 1 2 3 4]\n",
      " [0 1 2 3 4]\n",
      " [0 1 2 3 4]\n",
      " [0 1 2 3 4]]\n"
     ]
    }
   ],
   "source": [
    "matrix = np.tile(np.arange(5), (5, 1))\n",
    "print(matrix)"
   ]
  },
  {
   "cell_type": "markdown",
   "metadata": {},
   "source": [
    "1.3.3"
   ]
  },
  {
   "cell_type": "code",
   "execution_count": 8,
   "metadata": {},
   "outputs": [
    {
     "name": "stdout",
     "output_type": "stream",
     "text": [
      "[[[0.77845161 0.48939237 0.40686039]\n",
      "  [0.00290982 0.21276426 0.78948469]\n",
      "  [0.17013213 0.347991   0.31842629]]\n",
      "\n",
      " [[0.06774314 0.99332523 0.96554712]\n",
      "  [0.98093295 0.8045964  0.4290665 ]\n",
      "  [0.46329559 0.15187629 0.24129271]]\n",
      "\n",
      " [[0.03437548 0.88123493 0.40668504]\n",
      "  [0.01822032 0.47561432 0.99787184]\n",
      "  [0.4739177  0.55558034 0.0891846 ]]]\n"
     ]
    }
   ],
   "source": [
    "\n",
    "array = np.random.rand(3,3,3)\n",
    "print(array)"
   ]
  },
  {
   "cell_type": "markdown",
   "metadata": {},
   "source": [
    "1.3.4"
   ]
  },
  {
   "cell_type": "code",
   "execution_count": 9,
   "metadata": {},
   "outputs": [
    {
     "name": "stdout",
     "output_type": "stream",
     "text": [
      "[[1. 1. 1. 1. 1.]\n",
      " [1. 1. 1. 1. 1.]\n",
      " [1. 1. 1. 1. 1.]\n",
      " [1. 1. 1. 1. 1.]\n",
      " [1. 1. 1. 1. 1.]]\n"
     ]
    }
   ],
   "source": [
    "\n",
    "n = 5\n",
    "matrix = np.ones((n, n))\n",
    "matrix [1:-1, 1:-1] = 0\n",
    "print(matrix)"
   ]
  },
  {
   "cell_type": "markdown",
   "metadata": {},
   "source": [
    "1.3.5"
   ]
  },
  {
   "cell_type": "code",
   "execution_count": 3,
   "metadata": {},
   "outputs": [
    {
     "name": "stdout",
     "output_type": "stream",
     "text": [
      "[645 324 123  54  45  12]\n"
     ]
    }
   ],
   "source": [
    "arr = np.array([54, 12, 45, 645, 324, 123])\n",
    "sortedarr = np.sort(arr)[::-1]\n",
    "print(sortedarr)"
   ]
  },
  {
   "cell_type": "markdown",
   "metadata": {},
   "source": [
    "1.3.6"
   ]
  },
  {
   "cell_type": "code",
   "execution_count": 4,
   "metadata": {},
   "outputs": [
    {
     "name": "stdout",
     "output_type": "stream",
     "text": [
      "Квадратная матрица\n",
      "Размер:  9 \n",
      "Размерность:  3 x 3\n"
     ]
    }
   ],
   "source": [
    "n = int(input())\n",
    "m = int(input())\n",
    "\n",
    "A = np.random.random((n,m))\n",
    "if len(A) == 0 or (len(A[0])) == 0:\n",
    "  print(\"Матрица не существует!\")\n",
    "elif len(A) == (len(A[0])):\n",
    "  print(\"Квадратная матрица\\nРазмер: \", len(A)*(len(A[0])),\"\\nРазмерность: \", len(A), \"x\", (len(A[0])))\n",
    "elif len(A) != (len(A[0])):\n",
    "  print(\"Прямоугольная матрица\\nРазмер: \", len(A)*(len(A[0])),\"\\nРазмерность: \", len(A), \"x\", (len(A[0])))"
   ]
  },
  {
   "cell_type": "markdown",
   "metadata": {},
   "source": [
    "2.3.1"
   ]
  },
  {
   "cell_type": "code",
   "execution_count": 5,
   "metadata": {},
   "outputs": [
    {
     "name": "stdout",
     "output_type": "stream",
     "text": [
      "5.196152422706632\n"
     ]
    }
   ],
   "source": [
    "def euclideandistance(a, b):\n",
    "    if len(a) != len(b):\n",
    "        return None\n",
    "    \n",
    "    sumofsquares = np.sum((a - b) ** 2)\n",
    "    \n",
    "    return np.sqrt(sumofsquares)\n",
    "\n",
    "# Пример использования\n",
    "a = pd.Series([1, 2, 3])\n",
    "b = pd.Series([4, 5, 6])\n",
    "\n",
    "distance = euclideandistance(a, b)\n",
    "print(distance)"
   ]
  },
  {
   "cell_type": "markdown",
   "metadata": {},
   "source": [
    "2.3.2"
   ]
  },
  {
   "cell_type": "code",
   "execution_count": 6,
   "metadata": {},
   "outputs": [
    {
     "name": "stdout",
     "output_type": "stream",
     "text": [
      "   stream     slope elevation vegetation\n",
      "0   False     steep      high  chapparal\n",
      "1    True  moderate       low   riparian\n",
      "2    True     steep    medium   riparian\n",
      "3   False     steep    medium  chapparal\n",
      "4   False      flat      high    conifer\n"
     ]
    }
   ],
   "source": [
    "url = 'https://raw.githubusercontent.com/akmand/datasets/main/FMLPDA_Table4_3.csv'\n",
    "dataframe = pd.read_csv(url)\n",
    "print(dataframe.head())"
   ]
  },
  {
   "cell_type": "markdown",
   "metadata": {},
   "source": [
    "2.3.3"
   ]
  },
  {
   "cell_type": "code",
   "execution_count": 7,
   "metadata": {},
   "outputs": [
    {
     "name": "stdout",
     "output_type": "stream",
     "text": [
      "   stream     slope elevation vegetation\n",
      "0   False     steep      high  chapparal\n",
      "1    True  moderate       low   riparian\n",
      "2    True     steep    medium   riparian\n",
      "3   False     steep    medium  chapparal\n",
      "4   False      flat      high    conifer\n",
      "5    True     steep   highest    conifer\n",
      "6    True     steep      high  chapparal\n",
      "\n",
      "\n",
      "   stream     slope elevation vegetation\n",
      "0   False     steep      high  chapparal\n",
      "1    True  moderate       low   riparian\n",
      "\n",
      "\n",
      "   stream  slope elevation vegetation\n",
      "4   False   flat      high    conifer\n",
      "5    True  steep   highest    conifer\n",
      "6    True  steep      high  chapparal\n",
      "\n",
      "\n",
      "(7, 4)\n",
      "\n",
      "\n",
      "       stream  slope elevation vegetation\n",
      "count       7      7         7          7\n",
      "unique      2      3         4          3\n",
      "top      True  steep      high  chapparal\n",
      "freq        4      5         3          3\n",
      "\n",
      "\n",
      "   stream  slope elevation vegetation\n",
      "2    True  steep    medium   riparian\n",
      "3   False  steep    medium  chapparal\n",
      "\n",
      "\n",
      "   stream  slope elevation vegetation\n",
      "0   False  steep      high  chapparal\n",
      "2    True  steep    medium   riparian\n",
      "3   False  steep    medium  chapparal\n",
      "5    True  steep   highest    conifer\n",
      "6    True  steep      high  chapparal\n"
     ]
    }
   ],
   "source": [
    "url = 'https://raw.githubusercontent.com/akmand/datasets/main/FMLPDA_Table4_3.csv'\n",
    "dataframe = pd.read_csv(url)\n",
    "print(dataframe)\n",
    "print(\"\\n\")\n",
    "#2.2.5\n",
    "print(dataframe.head(2))\n",
    "print(\"\\n\")\n",
    "print(dataframe.tail(3))\n",
    "print(\"\\n\")\n",
    "print(dataframe.shape)\n",
    "print(\"\\n\")\n",
    "print(dataframe.describe())\n",
    "print(\"\\n\")\n",
    "#2.2.6\n",
    "print(dataframe.iloc[2:4])\n",
    "print(\"\\n\")\n",
    "#2.2.7\n",
    "print(dataframe[dataframe['slope'] == 'steep'].head())"
   ]
  },
  {
   "cell_type": "code",
   "execution_count": 8,
   "metadata": {},
   "outputs": [
    {
     "name": "stdout",
     "output_type": "stream",
     "text": [
      "0      0.222222\n",
      "1      0.166667\n",
      "2      0.111111\n",
      "3      0.083333\n",
      "4      0.194444\n",
      "         ...   \n",
      "145    0.666667\n",
      "146    0.555556\n",
      "147    0.611111\n",
      "148    0.527778\n",
      "149    0.444444\n",
      "Name: sepal_length_cm, Length: 150, dtype: float64 \n",
      "\n",
      "0      1.032057\n",
      "1     -0.124958\n",
      "2      0.337848\n",
      "3      0.106445\n",
      "4      1.263460\n",
      "         ...   \n",
      "145   -0.124958\n",
      "146   -1.281972\n",
      "147   -0.124958\n",
      "148    0.800654\n",
      "149   -0.124958\n",
      "Name: sepal_width_cm, Length: 150, dtype: float64\n"
     ]
    }
   ],
   "source": [
    "from sklearn import preprocessing\n",
    "\n",
    "url = 'https://raw.githubusercontent.com/akmand/datasets/master/iris.csv'\n",
    "dataframe = pd.read_csv(url)\n",
    "\n",
    "min_max_scaler = preprocessing.MinMaxScaler()\n",
    "dataframe['sepal_length_cm'] = min_max_scaler.fit_transform(dataframe[['sepal_length_cm']])\n",
    "\n",
    "z_score_scaler = preprocessing.StandardScaler()\n",
    "dataframe['sepal_width_cm'] = z_score_scaler.fit_transform(dataframe[['sepal_width_cm']])\n",
    "\n",
    "print(dataframe['sepal_length_cm'], \"\\n\")\n",
    "print(dataframe['sepal_width_cm'])"
   ]
  }
 ],
 "metadata": {
  "kernelspec": {
   "display_name": "Python 3",
   "language": "python",
   "name": "python3"
  },
  "language_info": {
   "codemirror_mode": {
    "name": "ipython",
    "version": 3
   },
   "file_extension": ".py",
   "mimetype": "text/x-python",
   "name": "python",
   "nbconvert_exporter": "python",
   "pygments_lexer": "ipython3",
   "version": "3.9.6"
  }
 },
 "nbformat": 4,
 "nbformat_minor": 2
}
