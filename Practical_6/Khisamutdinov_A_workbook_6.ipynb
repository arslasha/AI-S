{
  "cells": [
    {
      "cell_type": "markdown",
      "metadata": {},
      "source": [
        "Libraries"
      ]
    },
    {
      "cell_type": "code",
      "execution_count": 20,
      "metadata": {},
      "outputs": [
        {
          "ename": "ModuleNotFoundError",
          "evalue": "No module named 'networkx'",
          "output_type": "error",
          "traceback": [
            "\u001b[0;31m---------------------------------------------------------------------------\u001b[0m",
            "\u001b[0;31mModuleNotFoundError\u001b[0m                       Traceback (most recent call last)",
            "\u001b[1;32m/Users/arslankhisamutdinov/Documents/GitHub-repositories/AI-S/📍Практика 6/Khisamutdinov_A_workbook_6.ipynb Ячейка 2\u001b[0m line \u001b[0;36m1\n\u001b[0;32m----> <a href='vscode-notebook-cell:/Users/arslankhisamutdinov/Documents/GitHub-repositories/AI-S/%F0%9F%93%8D%D0%9F%D1%80%D0%B0%D0%BA%D1%82%D0%B8%D0%BA%D0%B0%206/Khisamutdinov_A_workbook_6.ipynb#W6sZmlsZQ%3D%3D?line=0'>1</a>\u001b[0m \u001b[39mimport\u001b[39;00m \u001b[39mnetworkx\u001b[39;00m \u001b[39mas\u001b[39;00m \u001b[39mnx\u001b[39;00m\n\u001b[1;32m      <a href='vscode-notebook-cell:/Users/arslankhisamutdinov/Documents/GitHub-repositories/AI-S/%F0%9F%93%8D%D0%9F%D1%80%D0%B0%D0%BA%D1%82%D0%B8%D0%BA%D0%B0%206/Khisamutdinov_A_workbook_6.ipynb#W6sZmlsZQ%3D%3D?line=1'>2</a>\u001b[0m \u001b[39mfrom\u001b[39;00m \u001b[39mmath\u001b[39;00m \u001b[39mimport\u001b[39;00m e\n",
            "\u001b[0;31mModuleNotFoundError\u001b[0m: No module named 'networkx'"
          ]
        }
      ],
      "source": [
        "import networkx as nx\n",
        "from math import e"
      ]
    },
    {
      "cell_type": "markdown",
      "id": "156e7725",
      "metadata": {
        "id": "156e7725"
      },
      "source": [
        "1 (вариант 5)"
      ]
    },
    {
      "cell_type": "code",
      "execution_count": null,
      "id": "d4c28fe6",
      "metadata": {
        "id": "d4c28fe6",
        "outputId": "8ee34ab3-dcd3-4d53-a8c1-05663ec38339"
      },
      "outputs": [
        {
          "name": "stdout",
          "output_type": "stream",
          "text": [
            "max_1_step: 0.2222222222222222\n",
            "max_2_step: -2.5\n",
            "max_3_step: 0.0\n",
            "max_4_step: 0.36363636363636365\n",
            "max Z:\t0.6666666666666666\n"
          ]
        }
      ],
      "source": [
        "def qZ(x,y):\n",
        "    return (x - 3 * y + 1) / (3 * x ** 2 + y ** 2 + 1)\n",
        "def qSumZ(Z):\n",
        "    return sum(Z)\n",
        "def exchangeScheme(oldX,oldY, sortedId):\n",
        "    X=[0 for i in range(4)]\n",
        "    Y=[0 for i in range(4)]\n",
        "    X[2] = oldX[sortedId[2]]\n",
        "    X[3] = oldX[sortedId[2]]\n",
        "    X[0] = oldX[sortedId[0]]\n",
        "    X[1] = oldX[sortedId[1]]\n",
        "    Y[0] = oldY[sortedId[2]]\n",
        "    Y[1] = oldY[sortedId[2]]   \n",
        "    Y[2] = oldY[sortedId[0]]\n",
        "    Y[3] = oldY[sortedId[1]]\n",
        "    return X,Y\n",
        "def sorting(Z):\n",
        "    sortedId=sorted(range(len(Z)), key=lambda k:Z[k])\n",
        "    return sortedId\n",
        "def evostep(X,Y,Z):\n",
        "    _, minId = min((value,id) for (id,value) in enumerate(Z))\n",
        "    X=X[:]\n",
        "    Y=Y[:]\n",
        "    Z=Z[:]\n",
        "    X.pop(minId)\n",
        "    Y.pop(minId)\n",
        "    Z.pop(minId)\n",
        "    return X,Y,Z\n",
        "def evosteps(X,Y, stepsnum=4):\n",
        "    results=[]\n",
        "    for i in range(4):\n",
        "        arrZ=[qZ(x,Y[i]) for i, x in enumerate(X)]\n",
        "        X,Y,Z=evostep(X,Y,arrZ)\n",
        "        X,Y=exchangeScheme(X,Y,sorting(Z))\n",
        "        results.append([X,Y,qSumZ(arrZ),arrZ])\n",
        "    return X,Y,results\n",
        "X = [-2,-1,0,2]\n",
        "Y = [-2,0,-1,1]\n",
        "results=evosteps(X,Y)\n",
        "qualityArrZ = []\n",
        "for i in range(len(results[2])):\n",
        "    qualityArrZ += results[2][i][3]\n",
        "    print(f'max_{i+1}_step: {qualityArrZ[i]}')\n",
        "print('max Z:', max(qualityArrZ), sep='\\t')"
      ]
    },
    {
      "cell_type": "markdown",
      "id": "870ee268",
      "metadata": {
        "id": "870ee268"
      },
      "source": [
        "2 (вариант 1)"
      ]
    },
    {
      "cell_type": "code",
      "execution_count": 3,
      "id": "35f552cb",
      "metadata": {
        "colab": {
          "base_uri": "https://localhost:8080/",
          "height": 568
        },
        "id": "35f552cb",
        "outputId": "4023222d-d5d0-4f36-c640-94cbfb39318a",
        "scrolled": false
      },
      "outputs": [
        {
          "ename": "NameError",
          "evalue": "name 'e' is not defined",
          "output_type": "error",
          "traceback": [
            "\u001b[0;31m---------------------------------------------------------------------------\u001b[0m",
            "\u001b[0;31mNameError\u001b[0m                                 Traceback (most recent call last)",
            "\u001b[1;32m/Users/arslankhisamutdinov/Documents/GitHub-repositories/AI-S/📍Практика 6/Khisamutdinov_A_workbook_6.ipynb Ячейка 6\u001b[0m line \u001b[0;36m7\n\u001b[1;32m     <a href='vscode-notebook-cell:/Users/arslankhisamutdinov/Documents/GitHub-repositories/AI-S/%F0%9F%93%8D%D0%9F%D1%80%D0%B0%D0%BA%D1%82%D0%B8%D0%BA%D0%B0%206/Khisamutdinov_A_workbook_6.ipynb#W3sZmlsZQ%3D%3D?line=71'>72</a>\u001b[0m     graph\u001b[39m.\u001b[39madd_weighted_edges_from(newDistances)\n\u001b[1;32m     <a href='vscode-notebook-cell:/Users/arslankhisamutdinov/Documents/GitHub-repositories/AI-S/%F0%9F%93%8D%D0%9F%D1%80%D0%B0%D0%BA%D1%82%D0%B8%D0%BA%D0%B0%206/Khisamutdinov_A_workbook_6.ipynb#W3sZmlsZQ%3D%3D?line=72'>73</a>\u001b[0m     nx\u001b[39m.\u001b[39mdraw_kamada_kawai(graph, node_color\u001b[39m=\u001b[39m\u001b[39m'\u001b[39m\u001b[39m#fb7258\u001b[39m\u001b[39m'\u001b[39m, node_size\u001b[39m=\u001b[39m\u001b[39m2000\u001b[39m, with_labels\u001b[39m=\u001b[39m\u001b[39mTrue\u001b[39;00m)\n\u001b[0;32m---> <a href='vscode-notebook-cell:/Users/arslankhisamutdinov/Documents/GitHub-repositories/AI-S/%F0%9F%93%8D%D0%9F%D1%80%D0%B0%D0%BA%D1%82%D0%B8%D0%BA%D0%B0%206/Khisamutdinov_A_workbook_6.ipynb#W3sZmlsZQ%3D%3D?line=73'>74</a>\u001b[0m bestRoute, arrLength \u001b[39m=\u001b[39m chooseRoute(distances, V, Z, T, P)\n\u001b[1;32m     <a href='vscode-notebook-cell:/Users/arslankhisamutdinov/Documents/GitHub-repositories/AI-S/%F0%9F%93%8D%D0%9F%D1%80%D0%B0%D0%BA%D1%82%D0%B8%D0%BA%D0%B0%206/Khisamutdinov_A_workbook_6.ipynb#W3sZmlsZQ%3D%3D?line=74'>75</a>\u001b[0m \u001b[39mprint\u001b[39m(\u001b[39mf\u001b[39m\u001b[39m'\u001b[39m\u001b[39mЛучший выбранный маршрут: \u001b[39m\u001b[39m{\u001b[39;00mbestRoute\u001b[39m}\u001b[39;00m\u001b[39m'\u001b[39m)\n\u001b[1;32m     <a href='vscode-notebook-cell:/Users/arslankhisamutdinov/Documents/GitHub-repositories/AI-S/%F0%9F%93%8D%D0%9F%D1%80%D0%B0%D0%BA%D1%82%D0%B8%D0%BA%D0%B0%206/Khisamutdinov_A_workbook_6.ipynb#W3sZmlsZQ%3D%3D?line=75'>76</a>\u001b[0m \u001b[39mprint\u001b[39m(\u001b[39mf\u001b[39m\u001b[39m'\u001b[39m\u001b[39mДлина лучшего выбранного маршрута: \u001b[39m\u001b[39m{\u001b[39;00mrouteLength(bestRoute,\u001b[39m \u001b[39mdistances)\u001b[39m}\u001b[39;00m\u001b[39m'\u001b[39m)\n",
            "\u001b[1;32m/Users/arslankhisamutdinov/Documents/GitHub-repositories/AI-S/📍Практика 6/Khisamutdinov_A_workbook_6.ipynb Ячейка 6\u001b[0m line \u001b[0;36m5\n\u001b[1;32m     <a href='vscode-notebook-cell:/Users/arslankhisamutdinov/Documents/GitHub-repositories/AI-S/%F0%9F%93%8D%D0%9F%D1%80%D0%B0%D0%BA%D1%82%D0%B8%D0%BA%D0%B0%206/Khisamutdinov_A_workbook_6.ipynb#W3sZmlsZQ%3D%3D?line=53'>54</a>\u001b[0m deltaS \u001b[39m=\u001b[39m newS \u001b[39m-\u001b[39m sumLength\n\u001b[1;32m     <a href='vscode-notebook-cell:/Users/arslankhisamutdinov/Documents/GitHub-repositories/AI-S/%F0%9F%93%8D%D0%9F%D1%80%D0%B0%D0%BA%D1%82%D0%B8%D0%BA%D0%B0%206/Khisamutdinov_A_workbook_6.ipynb#W3sZmlsZQ%3D%3D?line=54'>55</a>\u001b[0m \u001b[39mif\u001b[39;00m deltaS \u001b[39m>\u001b[39m \u001b[39m0\u001b[39m:\n\u001b[0;32m---> <a href='vscode-notebook-cell:/Users/arslankhisamutdinov/Documents/GitHub-repositories/AI-S/%F0%9F%93%8D%D0%9F%D1%80%D0%B0%D0%BA%D1%82%D0%B8%D0%BA%D0%B0%206/Khisamutdinov_A_workbook_6.ipynb#W3sZmlsZQ%3D%3D?line=55'>56</a>\u001b[0m     p \u001b[39m=\u001b[39m probability(deltaS, T)\n\u001b[1;32m     <a href='vscode-notebook-cell:/Users/arslankhisamutdinov/Documents/GitHub-repositories/AI-S/%F0%9F%93%8D%D0%9F%D1%80%D0%B0%D0%BA%D1%82%D0%B8%D0%BA%D0%B0%206/Khisamutdinov_A_workbook_6.ipynb#W3sZmlsZQ%3D%3D?line=56'>57</a>\u001b[0m     \u001b[39mif\u001b[39;00m p \u001b[39m>\u001b[39m P[i]:\n\u001b[1;32m     <a href='vscode-notebook-cell:/Users/arslankhisamutdinov/Documents/GitHub-repositories/AI-S/%F0%9F%93%8D%D0%9F%D1%80%D0%B0%D0%BA%D1%82%D0%B8%D0%BA%D0%B0%206/Khisamutdinov_A_workbook_6.ipynb#W3sZmlsZQ%3D%3D?line=57'>58</a>\u001b[0m         V \u001b[39m=\u001b[39m newV\n",
            "\u001b[1;32m/Users/arslankhisamutdinov/Documents/GitHub-repositories/AI-S/📍Практика 6/Khisamutdinov_A_workbook_6.ipynb Ячейка 6\u001b[0m line \u001b[0;36m2\n\u001b[1;32m     <a href='vscode-notebook-cell:/Users/arslankhisamutdinov/Documents/GitHub-repositories/AI-S/%F0%9F%93%8D%D0%9F%D1%80%D0%B0%D0%BA%D1%82%D0%B8%D0%BA%D0%B0%206/Khisamutdinov_A_workbook_6.ipynb#W3sZmlsZQ%3D%3D?line=22'>23</a>\u001b[0m \u001b[39mdef\u001b[39;00m \u001b[39mprobability\u001b[39m(delta, T):\n\u001b[0;32m---> <a href='vscode-notebook-cell:/Users/arslankhisamutdinov/Documents/GitHub-repositories/AI-S/%F0%9F%93%8D%D0%9F%D1%80%D0%B0%D0%BA%D1%82%D0%B8%D0%BA%D0%B0%206/Khisamutdinov_A_workbook_6.ipynb#W3sZmlsZQ%3D%3D?line=23'>24</a>\u001b[0m     \u001b[39mreturn\u001b[39;00m \u001b[39m100\u001b[39m \u001b[39m*\u001b[39m e \u001b[39m*\u001b[39m\u001b[39m*\u001b[39m (\u001b[39m-\u001b[39mdelta \u001b[39m/\u001b[39m T)\n",
            "\u001b[0;31mNameError\u001b[0m: name 'e' is not defined"
          ]
        }
      ],
      "source": [
        "distances = [(1, 2, 26),\n",
        "             (1, 3, 42),\n",
        "             (1, 4, 44),\n",
        "             (1, 5, 31),\n",
        "             (1, 6, 24),\n",
        "             (2, 3, 20),\n",
        "             (2, 4, 34),\n",
        "             (2, 5, 40),\n",
        "             (2, 6, 15),\n",
        "             (3, 4, 23),\n",
        "             (3, 5, 43),\n",
        "             (3, 6, 20),\n",
        "             (4, 5, 27),\n",
        "             (4, 6, 22),\n",
        "             (5, 6, 26)]\n",
        "V = [1, 2, 3, 4, 5, 6, 1]\n",
        "Z = [(3, 4),\n",
        "     (4, 6),\n",
        "     (5, 6),\n",
        "     (6, 2)]\n",
        "P = [90, 45, 43, 31]\n",
        "T=100\n",
        "def probability(delta, T):\n",
        "    return 100 * e ** (-delta / T)\n",
        "def reductTemp(prevT):\n",
        "    nextT = 0.5 * prevT\n",
        "    return nextT\n",
        "def edgeLength(i, j, distances, roundTrip=True):\n",
        "    if roundTrip:\n",
        "        return max([(item[2] if (item[0] == i and item[1] == j) or (item[1] == i and item[0] == j) else -1)\n",
        "                    for item in distances])\n",
        "    else:\n",
        "        return max([(item[2] if (item[0] == i and item[1] == j) else -1) for item in distances])\n",
        "def routeLength(V, distances):\n",
        "    edges = []\n",
        "    for i in range(len(V) - 1):\n",
        "        edges.append(edgeLength(V[i], V[i + 1], distances))\n",
        "    return sum(edges)\n",
        "def routeOneReplacement(arrV, Z, replacementByName=True):\n",
        "    decrement = 1 if replacementByName else 0\n",
        "    arrV[Z[0] - decrement], arrV[Z[1] - decrement] = arrV[Z[1] - decrement], arrV[Z[0] - decrement]\n",
        "    return arrV\n",
        "def routeReplacement(V, Z):\n",
        "    for z in Z:\n",
        "        V = routeOneReplacement(V, z)\n",
        "    return V\n",
        "def chooseRoute(distances, V, Z, T, P):\n",
        "    sumLength = routeLength(V, distances)\n",
        "    arrSum = [sumLength]\n",
        "    for i in range(len(Z)):\n",
        "        newV = routeOneReplacement(V[:], Z[i])\n",
        "        newS = routeLength(newV, distances)\n",
        "        arrSum.append(newS)\n",
        "        deltaS = newS - sumLength\n",
        "        if deltaS > 0:\n",
        "            p = probability(deltaS, T)\n",
        "            if p > P[i]:\n",
        "                V = newV\n",
        "                sumLength = newS\n",
        "        else:\n",
        "            V = newV\n",
        "            sumLength = newS\n",
        "        T = reductTemp(T)\n",
        "    return V, arrSum\n",
        "def drawRouteGraph(distances, bestRoute):\n",
        "    newDistances = []\n",
        "    for i in range(len(bestRoute) - 1):\n",
        "        for distance in distances:\n",
        "            if distance[0] == bestRoute[i] and distance[1] == bestRoute[i + 1] or distance[1] == bestRoute[i] and distance[0] == bestRoute[i + 1]:\n",
        "                newDistances.append(distance)\n",
        "    graph = nx.Graph()\n",
        "    graph.add_weighted_edges_from(newDistances)\n",
        "    nx.draw_kamada_kawai(graph, node_color='#fb7258', node_size=2000, with_labels=True)\n",
        "bestRoute, arrLength = chooseRoute(distances, V, Z, T, P)\n",
        "print(f'Лучший выбранный маршрут: {bestRoute}')\n",
        "print(f'Длина лучшего выбранного маршрута: {routeLength(bestRoute, distances)}')\n",
        "print(f'Длины всех рассмотренных маршрутов: {arrLength}')\n",
        "drawRouteGraph(distances, bestRoute)"
      ]
    },
    {
      "cell_type": "markdown",
      "id": "29161b82",
      "metadata": {
        "id": "29161b82"
      },
      "source": [
        "3"
      ]
    },
    {
      "cell_type": "code",
      "execution_count": 2,
      "id": "927e634c",
      "metadata": {
        "colab": {
          "base_uri": "https://localhost:8080/",
          "height": 568
        },
        "id": "927e634c",
        "outputId": "a43db843-c1b8-4d9b-f166-3d5f5cb890a5"
      },
      "outputs": [
        {
          "name": "stdout",
          "output_type": "stream",
          "text": [
            "Лучший выбранный маршрут: [1, 5, 3, 6, 4, 2, 1]\n",
            "Длина лучшего выбранного маршрута: 176\n",
            "Длины всех рассмотренных маршрутов: [146, 176, 163, 146, 176]\n"
          ]
        },
        {
          "data": {
            "image/png": "[encoded data removed]",
            "text/plain": [
              "<Figure size 640x480 with 1 Axes>"
            ]
          },
          "metadata": {},
          "output_type": "display_data"
        }
      ],
      "source": [
        "distances = [(1, 2, 26),\n",
        "             (1, 3, 42),\n",
        "             (1, 4, 44),\n",
        "             (1, 5, 31),\n",
        "             (1, 6, 24),\n",
        "             (2, 3, 20),\n",
        "             (2, 4, 34),\n",
        "             (2, 5, 40),\n",
        "             (2, 6, 15),\n",
        "             (3, 4, 23),\n",
        "             (3, 5, 43),\n",
        "             (3, 6, 20),\n",
        "             (4, 5, 27),\n",
        "             (4, 6, 22),\n",
        "             (5, 6, 26)]\n",
        "V = [1, 2, 3, 4, 5, 6, 1]\n",
        "Z = [(3, 4),\n",
        "     (4, 6),\n",
        "     (5, 6),\n",
        "     (6, 2)]\n",
        "P = [90, 45, 43, 31]\n",
        "T=100\n",
        "def probability(delta, T):\n",
        "    return 100 * e ** (-delta / T)\n",
        "def reductTemp(prevT):\n",
        "    nextT = 0.75 * prevT\n",
        "    return nextT\n",
        "def edgeLength(i, j, distances, roundTrip=True):\n",
        "    if roundTrip:\n",
        "        return max([(item[2] if (item[0] == i and item[1] == j) or (item[1] == i and item[0] == j) else -1)\n",
        "                    for item in distances])\n",
        "    else:\n",
        "        return max([(item[2] if (item[0] == i and item[1] == j) else -1) for item in distances])\n",
        "def routeLength(V, distances):\n",
        "    edges = []\n",
        "    for i in range(len(V) - 1):\n",
        "        edges.append(edgeLength(V[i], V[i + 1], distances))\n",
        "    return sum(edges)\n",
        "def routeOneReplacement(arrV, Z, replacementByName=True):\n",
        "    decrement = 1 if replacementByName else 0\n",
        "    arrV[Z[0] - decrement], arrV[Z[1] - decrement] = arrV[Z[1] - decrement], arrV[Z[0] - decrement]\n",
        "    return arrV\n",
        "def routeReplacement(V, Z):\n",
        "    for z in Z:\n",
        "        V = routeOneReplacement(V, z)\n",
        "    return V\n",
        "def chooseRoute(distances, V, Z, T, P):\n",
        "    sumLength = routeLength(V, distances)\n",
        "    arrSum = [sumLength]\n",
        "    for i in range(len(Z)):\n",
        "        newV = routeOneReplacement(V[:], Z[i])\n",
        "        newS = routeLength(newV, distances)\n",
        "        arrSum.append(newS)\n",
        "        deltaS = newS - sumLength\n",
        "        if deltaS > 0:\n",
        "            p = probability(deltaS, T)\n",
        "            if p > P[i]:\n",
        "                V = newV\n",
        "                sumLength = newS\n",
        "        else:\n",
        "            V = newV\n",
        "            sumLength = newS\n",
        "        T = reductTemp(T)\n",
        "    return V, arrSum\n",
        "def drawRouteGraph(distances, bestRoute):\n",
        "    newDistances = []\n",
        "    for i in range(len(bestRoute) - 1):\n",
        "        for distance in distances:\n",
        "            if distance[0] == bestRoute[i] and distance[1] == bestRoute[i + 1] or distance[1] == bestRoute[i] and distance[0] == bestRoute[i + 1]:\n",
        "                newDistances.append(distance)\n",
        "    graph = nx.Graph()\n",
        "    graph.add_weighted_edges_from(newDistances)\n",
        "    nx.draw_kamada_kawai(graph, node_color='#fb7258', node_size=2000, with_labels=True)\n",
        "bestRoute, arrLength = chooseRoute(distances, V, Z, T, P)\n",
        "print(f'Лучший выбранный маршрут: {bestRoute}')\n",
        "print(f'Длина лучшего выбранного маршрута: {routeLength(bestRoute, distances)}')\n",
        "print(f'Длины всех рассмотренных маршрутов: {arrLength}')\n",
        "drawRouteGraph(distances, bestRoute)"
      ]
    }
  ],
  "metadata": {
    "colab": {
      "provenance": []
    },
    "kernelspec": {
      "display_name": "Python 3 (ipykernel)",
      "language": "python",
      "name": "python3"
    },
    "language_info": {
      "codemirror_mode": {
        "name": "ipython",
        "version": 3
      },
      "file_extension": ".py",
      "mimetype": "text/x-python",
      "name": "python",
      "nbconvert_exporter": "python",
      "pygments_lexer": "ipython3",
      "version": "3.9.6"
    }
  },
  "nbformat": 4,
  "nbformat_minor": 5
}
